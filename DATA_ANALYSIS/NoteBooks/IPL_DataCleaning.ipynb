{
 "cells": [
  {
   "cell_type": "markdown",
   "id": "c59d8269-1d4d-4ffe-b7b2-7165b3917a3c",
   "metadata": {},
   "source": [
    "# IPL 2023 Data Cleaning and Preprocessing\n",
    "\n",
    "This notebook focuses on cleaning and preparing IPL 2023 ball-by-ball data for analysis. We will handle missing values, check for inconsistencies, and ensure the dataset is in optimal shape for further exploration."
   ]
  },
  {
   "cell_type": "markdown",
   "id": "dd670983-1e08-48dc-82c1-524c78698733",
   "metadata": {},
   "source": [
    "## 1. Importing Required Libraries"
   ]
  },
  {
   "cell_type": "markdown",
   "id": "df122519-f9bd-420f-9eef-d90cd9961e3a",
   "metadata": {},
   "source": [
    "Importing essential Python libraries for data manipulation (`pandas`) and numerical computations (`numpy`), which will be used for cleaning, exploring, and analyzing the IPL dataset efficiently."
   ]
  },
  {
   "cell_type": "code",
   "execution_count": 1,
   "id": "8baa6e1b-835c-4310-9ef1-27f98022b687",
   "metadata": {},
   "outputs": [],
   "source": [
    "import pandas as pd\n",
    "import numpy as np"
   ]
  },
  {
   "cell_type": "markdown",
   "id": "9d3af33b-5151-4187-af0b-58e19b68d6c5",
   "metadata": {},
   "source": [
    "## 2. Loading the Dataset"
   ]
  },
  {
   "cell_type": "markdown",
   "id": "d3aa31fd-444b-4f20-9503-f3d7a15821e7",
   "metadata": {},
   "source": [
    "Loading the IPL dataset into a Pandas DataFrame to begin analysis. This step ensures the data is ready for exploration and cleaning."
   ]
  },
  {
   "cell_type": "code",
   "execution_count": 2,
   "id": "e1aefb51-619c-48e7-bef7-c3c3666ee97b",
   "metadata": {},
   "outputs": [],
   "source": [
    "df = pd.read_csv(\"ipl_2023_deliveries.csv\")"
   ]
  },
  {
   "cell_type": "markdown",
   "id": "e1d47259-bd8c-429a-80e3-3c16640da473",
   "metadata": {},
   "source": [
    "## 3. Exploring the Dataset"
   ]
  },
  {
   "cell_type": "markdown",
   "id": "897bd1ad-2327-42b1-b43f-bf7a15c3b7cd",
   "metadata": {},
   "source": [
    "Before diving into analysis, it's crucial to understand the dataset's structure, contents, and key statistics. This includes checking the number of rows and columns, previewing data, and summarizing numerical and categorical features to identify potential issues or patterns."
   ]
  },
  {
   "cell_type": "markdown",
   "id": "1da07e0c-25fe-4645-881b-5a67ddb8df57",
   "metadata": {},
   "source": [
    "##### 3.1. Displays the number of rows and columns in the dataset."
   ]
  },
  {
   "cell_type": "code",
   "execution_count": 3,
   "id": "0c83a2fa-c00f-41bb-a562-c2a3ca017acb",
   "metadata": {},
   "outputs": [
    {
     "data": {
      "text/plain": [
       "(17386, 20)"
      ]
     },
     "execution_count": 3,
     "metadata": {},
     "output_type": "execute_result"
    }
   ],
   "source": [
    "df.shape"
   ]
  },
  {
   "cell_type": "markdown",
   "id": "59f1ca80-d2c9-476a-97e7-847bfe68cd00",
   "metadata": {},
   "source": [
    "##### 3.2. Shows the first few rows to get an overview of the data."
   ]
  },
  {
   "cell_type": "code",
   "execution_count": 4,
   "id": "049c0b0f-1f4e-4105-8e5a-86bdd36c20b3",
   "metadata": {},
   "outputs": [
    {
     "data": {
      "text/html": [
       "<div>\n",
       "<style scoped>\n",
       "    .dataframe tbody tr th:only-of-type {\n",
       "        vertical-align: middle;\n",
       "    }\n",
       "\n",
       "    .dataframe tbody tr th {\n",
       "        vertical-align: top;\n",
       "    }\n",
       "\n",
       "    .dataframe thead th {\n",
       "        text-align: right;\n",
       "    }\n",
       "</style>\n",
       "<table border=\"1\" class=\"dataframe\">\n",
       "  <thead>\n",
       "    <tr style=\"text-align: right;\">\n",
       "      <th></th>\n",
       "      <th>match_id</th>\n",
       "      <th>season</th>\n",
       "      <th>match_no</th>\n",
       "      <th>date</th>\n",
       "      <th>venue</th>\n",
       "      <th>batting_team</th>\n",
       "      <th>bowling_team</th>\n",
       "      <th>innings</th>\n",
       "      <th>over</th>\n",
       "      <th>striker</th>\n",
       "      <th>bowler</th>\n",
       "      <th>runs_of_bat</th>\n",
       "      <th>extras</th>\n",
       "      <th>wide</th>\n",
       "      <th>legbyes</th>\n",
       "      <th>byes</th>\n",
       "      <th>noballs</th>\n",
       "      <th>wicket_type</th>\n",
       "      <th>player_dismissed</th>\n",
       "      <th>fielder</th>\n",
       "    </tr>\n",
       "  </thead>\n",
       "  <tbody>\n",
       "    <tr>\n",
       "      <th>0</th>\n",
       "      <td>202301</td>\n",
       "      <td>2023</td>\n",
       "      <td>1</td>\n",
       "      <td>Mar 31, 2023</td>\n",
       "      <td>Narendra Modi Stadium, Ahmedabad</td>\n",
       "      <td>CSK</td>\n",
       "      <td>GT</td>\n",
       "      <td>1</td>\n",
       "      <td>0.1</td>\n",
       "      <td>Conway</td>\n",
       "      <td>Shami</td>\n",
       "      <td>0</td>\n",
       "      <td>0</td>\n",
       "      <td>0</td>\n",
       "      <td>0</td>\n",
       "      <td>0</td>\n",
       "      <td>0</td>\n",
       "      <td>NaN</td>\n",
       "      <td>NaN</td>\n",
       "      <td>NaN</td>\n",
       "    </tr>\n",
       "    <tr>\n",
       "      <th>1</th>\n",
       "      <td>202301</td>\n",
       "      <td>2023</td>\n",
       "      <td>1</td>\n",
       "      <td>Mar 31, 2023</td>\n",
       "      <td>Narendra Modi Stadium, Ahmedabad</td>\n",
       "      <td>CSK</td>\n",
       "      <td>GT</td>\n",
       "      <td>1</td>\n",
       "      <td>0.2</td>\n",
       "      <td>Conway</td>\n",
       "      <td>Shami</td>\n",
       "      <td>0</td>\n",
       "      <td>1</td>\n",
       "      <td>0</td>\n",
       "      <td>1</td>\n",
       "      <td>0</td>\n",
       "      <td>0</td>\n",
       "      <td>NaN</td>\n",
       "      <td>NaN</td>\n",
       "      <td>NaN</td>\n",
       "    </tr>\n",
       "    <tr>\n",
       "      <th>2</th>\n",
       "      <td>202301</td>\n",
       "      <td>2023</td>\n",
       "      <td>1</td>\n",
       "      <td>Mar 31, 2023</td>\n",
       "      <td>Narendra Modi Stadium, Ahmedabad</td>\n",
       "      <td>CSK</td>\n",
       "      <td>GT</td>\n",
       "      <td>1</td>\n",
       "      <td>0.3</td>\n",
       "      <td>Gaikwad</td>\n",
       "      <td>Shami</td>\n",
       "      <td>0</td>\n",
       "      <td>0</td>\n",
       "      <td>0</td>\n",
       "      <td>0</td>\n",
       "      <td>0</td>\n",
       "      <td>0</td>\n",
       "      <td>NaN</td>\n",
       "      <td>NaN</td>\n",
       "      <td>NaN</td>\n",
       "    </tr>\n",
       "    <tr>\n",
       "      <th>3</th>\n",
       "      <td>202301</td>\n",
       "      <td>2023</td>\n",
       "      <td>1</td>\n",
       "      <td>Mar 31, 2023</td>\n",
       "      <td>Narendra Modi Stadium, Ahmedabad</td>\n",
       "      <td>CSK</td>\n",
       "      <td>GT</td>\n",
       "      <td>1</td>\n",
       "      <td>0.4</td>\n",
       "      <td>Gaikwad</td>\n",
       "      <td>Shami</td>\n",
       "      <td>1</td>\n",
       "      <td>0</td>\n",
       "      <td>0</td>\n",
       "      <td>0</td>\n",
       "      <td>0</td>\n",
       "      <td>0</td>\n",
       "      <td>NaN</td>\n",
       "      <td>NaN</td>\n",
       "      <td>NaN</td>\n",
       "    </tr>\n",
       "    <tr>\n",
       "      <th>4</th>\n",
       "      <td>202301</td>\n",
       "      <td>2023</td>\n",
       "      <td>1</td>\n",
       "      <td>Mar 31, 2023</td>\n",
       "      <td>Narendra Modi Stadium, Ahmedabad</td>\n",
       "      <td>CSK</td>\n",
       "      <td>GT</td>\n",
       "      <td>1</td>\n",
       "      <td>0.5</td>\n",
       "      <td>Conway</td>\n",
       "      <td>Shami</td>\n",
       "      <td>0</td>\n",
       "      <td>0</td>\n",
       "      <td>0</td>\n",
       "      <td>0</td>\n",
       "      <td>0</td>\n",
       "      <td>0</td>\n",
       "      <td>NaN</td>\n",
       "      <td>NaN</td>\n",
       "      <td>NaN</td>\n",
       "    </tr>\n",
       "  </tbody>\n",
       "</table>\n",
       "</div>"
      ],
      "text/plain": [
       "   match_id  season  match_no          date                             venue  \\\n",
       "0    202301    2023         1  Mar 31, 2023  Narendra Modi Stadium, Ahmedabad   \n",
       "1    202301    2023         1  Mar 31, 2023  Narendra Modi Stadium, Ahmedabad   \n",
       "2    202301    2023         1  Mar 31, 2023  Narendra Modi Stadium, Ahmedabad   \n",
       "3    202301    2023         1  Mar 31, 2023  Narendra Modi Stadium, Ahmedabad   \n",
       "4    202301    2023         1  Mar 31, 2023  Narendra Modi Stadium, Ahmedabad   \n",
       "\n",
       "  batting_team bowling_team  innings  over  striker bowler  runs_of_bat  \\\n",
       "0          CSK           GT        1   0.1   Conway  Shami            0   \n",
       "1          CSK           GT        1   0.2   Conway  Shami            0   \n",
       "2          CSK           GT        1   0.3  Gaikwad  Shami            0   \n",
       "3          CSK           GT        1   0.4  Gaikwad  Shami            1   \n",
       "4          CSK           GT        1   0.5   Conway  Shami            0   \n",
       "\n",
       "   extras  wide  legbyes  byes  noballs wicket_type player_dismissed fielder  \n",
       "0       0     0        0     0        0         NaN              NaN     NaN  \n",
       "1       1     0        1     0        0         NaN              NaN     NaN  \n",
       "2       0     0        0     0        0         NaN              NaN     NaN  \n",
       "3       0     0        0     0        0         NaN              NaN     NaN  \n",
       "4       0     0        0     0        0         NaN              NaN     NaN  "
      ]
     },
     "execution_count": 4,
     "metadata": {},
     "output_type": "execute_result"
    }
   ],
   "source": [
    "df.head()"
   ]
  },
  {
   "cell_type": "markdown",
   "id": "eb97da00-9dcb-4111-aedc-8fac9a6b0ec3",
   "metadata": {},
   "source": [
    "##### 3.3. Provides data types and missing value details for each column."
   ]
  },
  {
   "cell_type": "code",
   "execution_count": 5,
   "id": "c3272d8e-b96c-4e11-a664-08886e942b73",
   "metadata": {},
   "outputs": [
    {
     "name": "stdout",
     "output_type": "stream",
     "text": [
      "<class 'pandas.core.frame.DataFrame'>\n",
      "RangeIndex: 17386 entries, 0 to 17385\n",
      "Data columns (total 20 columns):\n",
      " #   Column            Non-Null Count  Dtype  \n",
      "---  ------            --------------  -----  \n",
      " 0   match_id          17386 non-null  int64  \n",
      " 1   season            17386 non-null  int64  \n",
      " 2   match_no          17386 non-null  int64  \n",
      " 3   date              17386 non-null  object \n",
      " 4   venue             17386 non-null  object \n",
      " 5   batting_team      17386 non-null  object \n",
      " 6   bowling_team      17386 non-null  object \n",
      " 7   innings           17386 non-null  int64  \n",
      " 8   over              17386 non-null  float64\n",
      " 9   striker           17386 non-null  object \n",
      " 10  bowler            17386 non-null  object \n",
      " 11  runs_of_bat       17386 non-null  int64  \n",
      " 12  extras            17386 non-null  int64  \n",
      " 13  wide              17386 non-null  int64  \n",
      " 14  legbyes           17386 non-null  int64  \n",
      " 15  byes              17386 non-null  int64  \n",
      " 16  noballs           17386 non-null  int64  \n",
      " 17  wicket_type       885 non-null    object \n",
      " 18  player_dismissed  883 non-null    object \n",
      " 19  fielder           678 non-null    object \n",
      "dtypes: float64(1), int64(10), object(9)\n",
      "memory usage: 2.7+ MB\n"
     ]
    }
   ],
   "source": [
    "df.info()"
   ]
  },
  {
   "cell_type": "markdown",
   "id": "824f756c-cad6-41fe-9ca4-99a18d58ca94",
   "metadata": {},
   "source": [
    "##### 3.4. Gives statistical summaries like mean, min, and max for numerical columns."
   ]
  },
  {
   "cell_type": "code",
   "execution_count": 6,
   "id": "ce0a2f62-1c1b-4ce7-926e-70b12dc77bba",
   "metadata": {},
   "outputs": [
    {
     "data": {
      "text/html": [
       "<div>\n",
       "<style scoped>\n",
       "    .dataframe tbody tr th:only-of-type {\n",
       "        vertical-align: middle;\n",
       "    }\n",
       "\n",
       "    .dataframe tbody tr th {\n",
       "        vertical-align: top;\n",
       "    }\n",
       "\n",
       "    .dataframe thead th {\n",
       "        text-align: right;\n",
       "    }\n",
       "</style>\n",
       "<table border=\"1\" class=\"dataframe\">\n",
       "  <thead>\n",
       "    <tr style=\"text-align: right;\">\n",
       "      <th></th>\n",
       "      <th>match_id</th>\n",
       "      <th>season</th>\n",
       "      <th>match_no</th>\n",
       "      <th>innings</th>\n",
       "      <th>over</th>\n",
       "      <th>runs_of_bat</th>\n",
       "      <th>extras</th>\n",
       "      <th>wide</th>\n",
       "      <th>legbyes</th>\n",
       "      <th>byes</th>\n",
       "      <th>noballs</th>\n",
       "    </tr>\n",
       "  </thead>\n",
       "  <tbody>\n",
       "    <tr>\n",
       "      <th>count</th>\n",
       "      <td>17386.000000</td>\n",
       "      <td>17386.0</td>\n",
       "      <td>17386.000000</td>\n",
       "      <td>17386.00000</td>\n",
       "      <td>17386.000000</td>\n",
       "      <td>17386.000000</td>\n",
       "      <td>17386.000000</td>\n",
       "      <td>17386.000000</td>\n",
       "      <td>17386.000000</td>\n",
       "      <td>17386.000000</td>\n",
       "      <td>17386.000000</td>\n",
       "    </tr>\n",
       "    <tr>\n",
       "      <th>mean</th>\n",
       "      <td>202336.503278</td>\n",
       "      <td>2023.0</td>\n",
       "      <td>36.503278</td>\n",
       "      <td>1.48286</td>\n",
       "      <td>9.670355</td>\n",
       "      <td>1.367480</td>\n",
       "      <td>0.070114</td>\n",
       "      <td>0.035086</td>\n",
       "      <td>0.013229</td>\n",
       "      <td>0.002243</td>\n",
       "      <td>0.005637</td>\n",
       "    </tr>\n",
       "    <tr>\n",
       "      <th>std</th>\n",
       "      <td>21.041748</td>\n",
       "      <td>0.0</td>\n",
       "      <td>21.041748</td>\n",
       "      <td>0.49972</td>\n",
       "      <td>5.713577</td>\n",
       "      <td>1.725766</td>\n",
       "      <td>0.347018</td>\n",
       "      <td>0.184002</td>\n",
       "      <td>0.114258</td>\n",
       "      <td>0.047310</td>\n",
       "      <td>0.074868</td>\n",
       "    </tr>\n",
       "    <tr>\n",
       "      <th>min</th>\n",
       "      <td>202301.000000</td>\n",
       "      <td>2023.0</td>\n",
       "      <td>1.000000</td>\n",
       "      <td>1.00000</td>\n",
       "      <td>0.100000</td>\n",
       "      <td>0.000000</td>\n",
       "      <td>0.000000</td>\n",
       "      <td>0.000000</td>\n",
       "      <td>0.000000</td>\n",
       "      <td>0.000000</td>\n",
       "      <td>0.000000</td>\n",
       "    </tr>\n",
       "    <tr>\n",
       "      <th>25%</th>\n",
       "      <td>202318.000000</td>\n",
       "      <td>2023.0</td>\n",
       "      <td>18.000000</td>\n",
       "      <td>1.00000</td>\n",
       "      <td>4.600000</td>\n",
       "      <td>0.000000</td>\n",
       "      <td>0.000000</td>\n",
       "      <td>0.000000</td>\n",
       "      <td>0.000000</td>\n",
       "      <td>0.000000</td>\n",
       "      <td>0.000000</td>\n",
       "    </tr>\n",
       "    <tr>\n",
       "      <th>50%</th>\n",
       "      <td>202336.000000</td>\n",
       "      <td>2023.0</td>\n",
       "      <td>36.000000</td>\n",
       "      <td>1.00000</td>\n",
       "      <td>9.500000</td>\n",
       "      <td>1.000000</td>\n",
       "      <td>0.000000</td>\n",
       "      <td>0.000000</td>\n",
       "      <td>0.000000</td>\n",
       "      <td>0.000000</td>\n",
       "      <td>0.000000</td>\n",
       "    </tr>\n",
       "    <tr>\n",
       "      <th>75%</th>\n",
       "      <td>202354.000000</td>\n",
       "      <td>2023.0</td>\n",
       "      <td>54.000000</td>\n",
       "      <td>2.00000</td>\n",
       "      <td>14.500000</td>\n",
       "      <td>1.000000</td>\n",
       "      <td>0.000000</td>\n",
       "      <td>0.000000</td>\n",
       "      <td>0.000000</td>\n",
       "      <td>0.000000</td>\n",
       "      <td>0.000000</td>\n",
       "    </tr>\n",
       "    <tr>\n",
       "      <th>max</th>\n",
       "      <td>202374.000000</td>\n",
       "      <td>2023.0</td>\n",
       "      <td>74.000000</td>\n",
       "      <td>2.00000</td>\n",
       "      <td>19.600000</td>\n",
       "      <td>6.000000</td>\n",
       "      <td>5.000000</td>\n",
       "      <td>1.000000</td>\n",
       "      <td>1.000000</td>\n",
       "      <td>1.000000</td>\n",
       "      <td>1.000000</td>\n",
       "    </tr>\n",
       "  </tbody>\n",
       "</table>\n",
       "</div>"
      ],
      "text/plain": [
       "            match_id   season      match_no      innings          over  \\\n",
       "count   17386.000000  17386.0  17386.000000  17386.00000  17386.000000   \n",
       "mean   202336.503278   2023.0     36.503278      1.48286      9.670355   \n",
       "std        21.041748      0.0     21.041748      0.49972      5.713577   \n",
       "min    202301.000000   2023.0      1.000000      1.00000      0.100000   \n",
       "25%    202318.000000   2023.0     18.000000      1.00000      4.600000   \n",
       "50%    202336.000000   2023.0     36.000000      1.00000      9.500000   \n",
       "75%    202354.000000   2023.0     54.000000      2.00000     14.500000   \n",
       "max    202374.000000   2023.0     74.000000      2.00000     19.600000   \n",
       "\n",
       "        runs_of_bat        extras          wide       legbyes          byes  \\\n",
       "count  17386.000000  17386.000000  17386.000000  17386.000000  17386.000000   \n",
       "mean       1.367480      0.070114      0.035086      0.013229      0.002243   \n",
       "std        1.725766      0.347018      0.184002      0.114258      0.047310   \n",
       "min        0.000000      0.000000      0.000000      0.000000      0.000000   \n",
       "25%        0.000000      0.000000      0.000000      0.000000      0.000000   \n",
       "50%        1.000000      0.000000      0.000000      0.000000      0.000000   \n",
       "75%        1.000000      0.000000      0.000000      0.000000      0.000000   \n",
       "max        6.000000      5.000000      1.000000      1.000000      1.000000   \n",
       "\n",
       "            noballs  \n",
       "count  17386.000000  \n",
       "mean       0.005637  \n",
       "std        0.074868  \n",
       "min        0.000000  \n",
       "25%        0.000000  \n",
       "50%        0.000000  \n",
       "75%        0.000000  \n",
       "max        1.000000  "
      ]
     },
     "execution_count": 6,
     "metadata": {},
     "output_type": "execute_result"
    }
   ],
   "source": [
    "df.describe()"
   ]
  },
  {
   "cell_type": "markdown",
   "id": "f50b22ff-d475-45fd-a68c-38efbeba9925",
   "metadata": {},
   "source": [
    "## 4. Handling Missing Values"
   ]
  },
  {
   "cell_type": "markdown",
   "id": "c14746a3-d5ae-433d-a6fe-b7f00052912f",
   "metadata": {},
   "source": [
    "Handling missing values is a crucial step in data cleaning to ensure the dataset is complete and reliable for analysis. This involves identifying missing values, understanding their impact, and applying appropriate techniques like filling, replacing, or dropping them based on the context of the data."
   ]
  },
  {
   "cell_type": "markdown",
   "id": "1d52b6f7-d1d2-4071-b405-4d37de5107a9",
   "metadata": {},
   "source": [
    "The `df.isnull().sum()` function counts the number of missing values in each column, helping us identify incomplete data."
   ]
  },
  {
   "cell_type": "code",
   "execution_count": 7,
   "id": "3178e59c-93c2-435a-9e8e-bd7330a9269c",
   "metadata": {},
   "outputs": [
    {
     "data": {
      "text/plain": [
       "match_id                0\n",
       "season                  0\n",
       "match_no                0\n",
       "date                    0\n",
       "venue                   0\n",
       "batting_team            0\n",
       "bowling_team            0\n",
       "innings                 0\n",
       "over                    0\n",
       "striker                 0\n",
       "bowler                  0\n",
       "runs_of_bat             0\n",
       "extras                  0\n",
       "wide                    0\n",
       "legbyes                 0\n",
       "byes                    0\n",
       "noballs                 0\n",
       "wicket_type         16501\n",
       "player_dismissed    16503\n",
       "fielder             16708\n",
       "dtype: int64"
      ]
     },
     "execution_count": 7,
     "metadata": {},
     "output_type": "execute_result"
    }
   ],
   "source": [
    "df.isnull().sum()"
   ]
  },
  {
   "cell_type": "markdown",
   "id": "d5a7cdcc-f1dc-481a-a3a1-6dae9d547520",
   "metadata": {},
   "source": [
    "The missing values summary reveals that most columns are complete, but `wicket_type`, `player_dismissed`, and `fielder` have a significant number of missing values. These columns are related to dismissals, meaning missing values likely indicate deliveries where no wicket was taken."
   ]
  },
  {
   "cell_type": "markdown",
   "id": "4065e680-a615-45af-8339-d4acba6ab1e6",
   "metadata": {},
   "source": [
    " Additionally, there is a slight inconsistency, as `player_dismissed` has two more missing values than `wicket_type`, which suggests possible data redundancy or errors. It is addressed by the following code.\n",
    " "
   ]
  },
  {
   "cell_type": "code",
   "execution_count": 8,
   "id": "ad804fda-be35-4c1a-a371-66eeb46885b0",
   "metadata": {},
   "outputs": [
    {
     "data": {
      "text/html": [
       "<div>\n",
       "<style scoped>\n",
       "    .dataframe tbody tr th:only-of-type {\n",
       "        vertical-align: middle;\n",
       "    }\n",
       "\n",
       "    .dataframe tbody tr th {\n",
       "        vertical-align: top;\n",
       "    }\n",
       "\n",
       "    .dataframe thead th {\n",
       "        text-align: right;\n",
       "    }\n",
       "</style>\n",
       "<table border=\"1\" class=\"dataframe\">\n",
       "  <thead>\n",
       "    <tr style=\"text-align: right;\">\n",
       "      <th></th>\n",
       "      <th>match_id</th>\n",
       "      <th>season</th>\n",
       "      <th>match_no</th>\n",
       "      <th>date</th>\n",
       "      <th>venue</th>\n",
       "      <th>batting_team</th>\n",
       "      <th>bowling_team</th>\n",
       "      <th>innings</th>\n",
       "      <th>over</th>\n",
       "      <th>striker</th>\n",
       "      <th>bowler</th>\n",
       "      <th>runs_of_bat</th>\n",
       "      <th>extras</th>\n",
       "      <th>wide</th>\n",
       "      <th>legbyes</th>\n",
       "      <th>byes</th>\n",
       "      <th>noballs</th>\n",
       "      <th>wicket_type</th>\n",
       "      <th>player_dismissed</th>\n",
       "      <th>fielder</th>\n",
       "    </tr>\n",
       "  </thead>\n",
       "  <tbody>\n",
       "    <tr>\n",
       "      <th>8925</th>\n",
       "      <td>202337</td>\n",
       "      <td>2023</td>\n",
       "      <td>37</td>\n",
       "      <td>Apr 27, 2023</td>\n",
       "      <td>Sawai Mansingh Stadium, Jaipur</td>\n",
       "      <td>RR</td>\n",
       "      <td>CSK</td>\n",
       "      <td>1</td>\n",
       "      <td>19.4</td>\n",
       "      <td>Padikkal</td>\n",
       "      <td>Pathirana</td>\n",
       "      <td>0</td>\n",
       "      <td>1</td>\n",
       "      <td>1</td>\n",
       "      <td>0</td>\n",
       "      <td>0</td>\n",
       "      <td>0</td>\n",
       "      <td>runout</td>\n",
       "      <td>NaN</td>\n",
       "      <td>Dhoni</td>\n",
       "    </tr>\n",
       "    <tr>\n",
       "      <th>10555</th>\n",
       "      <td>202344</td>\n",
       "      <td>2023</td>\n",
       "      <td>44</td>\n",
       "      <td>May 02, 2023</td>\n",
       "      <td>Narendra Modi Stadium, Ahmedabad</td>\n",
       "      <td>DC</td>\n",
       "      <td>GT</td>\n",
       "      <td>1</td>\n",
       "      <td>1.2</td>\n",
       "      <td>Priyam Garg</td>\n",
       "      <td>Hardik Pandya</td>\n",
       "      <td>0</td>\n",
       "      <td>1</td>\n",
       "      <td>0</td>\n",
       "      <td>0</td>\n",
       "      <td>0</td>\n",
       "      <td>1</td>\n",
       "      <td>runout</td>\n",
       "      <td>NaN</td>\n",
       "      <td>Rashid Khan</td>\n",
       "    </tr>\n",
       "  </tbody>\n",
       "</table>\n",
       "</div>"
      ],
      "text/plain": [
       "       match_id  season  match_no          date  \\\n",
       "8925     202337    2023        37  Apr 27, 2023   \n",
       "10555    202344    2023        44  May 02, 2023   \n",
       "\n",
       "                                  venue batting_team bowling_team  innings  \\\n",
       "8925     Sawai Mansingh Stadium, Jaipur           RR          CSK        1   \n",
       "10555  Narendra Modi Stadium, Ahmedabad           DC           GT        1   \n",
       "\n",
       "       over      striker         bowler  runs_of_bat  extras  wide  legbyes  \\\n",
       "8925   19.4     Padikkal      Pathirana            0       1     1        0   \n",
       "10555   1.2  Priyam Garg  Hardik Pandya            0       1     0        0   \n",
       "\n",
       "       byes  noballs wicket_type player_dismissed      fielder  \n",
       "8925      0        0      runout              NaN        Dhoni  \n",
       "10555     0        1      runout              NaN  Rashid Khan  "
      ]
     },
     "execution_count": 8,
     "metadata": {},
     "output_type": "execute_result"
    }
   ],
   "source": [
    "df[df['wicket_type'].notna() & df['player_dismissed'].isna()]"
   ]
  },
  {
   "cell_type": "markdown",
   "id": "851a1f42-c207-4b1c-bb19-b826807d2351",
   "metadata": {},
   "source": [
    "We identified two instances where a runout occurred but the `player_dismissed` column was missing values. After inspecting nearby rows, we determined whether the dismissed player was the striker or non-striker. We manually filled in these missing values to ensure consistency and accuracy in the dataset, preserving the integrity of the dismissal records."
   ]
  },
  {
   "cell_type": "code",
   "execution_count": 9,
   "id": "d2515fa1-4eaf-4251-bd20-b35793c2b17f",
   "metadata": {},
   "outputs": [],
   "source": [
    "# Manually update the two missing player_dismissed values\n",
    "# Replacing with actual names found from the previous cels of the dataset\n",
    "df.loc[df[\"player_dismissed\"].isna() & df[\"wicket_type\"].notna(), \"player_dismissed\"] = [\"Dhruv Jurel\", \"Warner\"]  "
   ]
  },
  {
   "cell_type": "code",
   "execution_count": 10,
   "id": "eeca63bf-e4a2-48fb-9b8d-f8cb621cb1e4",
   "metadata": {},
   "outputs": [
    {
     "data": {
      "text/html": [
       "<div>\n",
       "<style scoped>\n",
       "    .dataframe tbody tr th:only-of-type {\n",
       "        vertical-align: middle;\n",
       "    }\n",
       "\n",
       "    .dataframe tbody tr th {\n",
       "        vertical-align: top;\n",
       "    }\n",
       "\n",
       "    .dataframe thead th {\n",
       "        text-align: right;\n",
       "    }\n",
       "</style>\n",
       "<table border=\"1\" class=\"dataframe\">\n",
       "  <thead>\n",
       "    <tr style=\"text-align: right;\">\n",
       "      <th></th>\n",
       "      <th>match_id</th>\n",
       "      <th>season</th>\n",
       "      <th>match_no</th>\n",
       "      <th>date</th>\n",
       "      <th>venue</th>\n",
       "      <th>batting_team</th>\n",
       "      <th>bowling_team</th>\n",
       "      <th>innings</th>\n",
       "      <th>over</th>\n",
       "      <th>striker</th>\n",
       "      <th>bowler</th>\n",
       "      <th>runs_of_bat</th>\n",
       "      <th>extras</th>\n",
       "      <th>wide</th>\n",
       "      <th>legbyes</th>\n",
       "      <th>byes</th>\n",
       "      <th>noballs</th>\n",
       "      <th>wicket_type</th>\n",
       "      <th>player_dismissed</th>\n",
       "      <th>fielder</th>\n",
       "    </tr>\n",
       "  </thead>\n",
       "  <tbody>\n",
       "    <tr>\n",
       "      <th>8925</th>\n",
       "      <td>202337</td>\n",
       "      <td>2023</td>\n",
       "      <td>37</td>\n",
       "      <td>Apr 27, 2023</td>\n",
       "      <td>Sawai Mansingh Stadium, Jaipur</td>\n",
       "      <td>RR</td>\n",
       "      <td>CSK</td>\n",
       "      <td>1</td>\n",
       "      <td>19.4</td>\n",
       "      <td>Padikkal</td>\n",
       "      <td>Pathirana</td>\n",
       "      <td>0</td>\n",
       "      <td>1</td>\n",
       "      <td>1</td>\n",
       "      <td>0</td>\n",
       "      <td>0</td>\n",
       "      <td>0</td>\n",
       "      <td>runout</td>\n",
       "      <td>Dhruv Jurel</td>\n",
       "      <td>Dhoni</td>\n",
       "    </tr>\n",
       "    <tr>\n",
       "      <th>10555</th>\n",
       "      <td>202344</td>\n",
       "      <td>2023</td>\n",
       "      <td>44</td>\n",
       "      <td>May 02, 2023</td>\n",
       "      <td>Narendra Modi Stadium, Ahmedabad</td>\n",
       "      <td>DC</td>\n",
       "      <td>GT</td>\n",
       "      <td>1</td>\n",
       "      <td>1.2</td>\n",
       "      <td>Priyam Garg</td>\n",
       "      <td>Hardik Pandya</td>\n",
       "      <td>0</td>\n",
       "      <td>1</td>\n",
       "      <td>0</td>\n",
       "      <td>0</td>\n",
       "      <td>0</td>\n",
       "      <td>1</td>\n",
       "      <td>runout</td>\n",
       "      <td>Warner</td>\n",
       "      <td>Rashid Khan</td>\n",
       "    </tr>\n",
       "  </tbody>\n",
       "</table>\n",
       "</div>"
      ],
      "text/plain": [
       "       match_id  season  match_no          date  \\\n",
       "8925     202337    2023        37  Apr 27, 2023   \n",
       "10555    202344    2023        44  May 02, 2023   \n",
       "\n",
       "                                  venue batting_team bowling_team  innings  \\\n",
       "8925     Sawai Mansingh Stadium, Jaipur           RR          CSK        1   \n",
       "10555  Narendra Modi Stadium, Ahmedabad           DC           GT        1   \n",
       "\n",
       "       over      striker         bowler  runs_of_bat  extras  wide  legbyes  \\\n",
       "8925   19.4     Padikkal      Pathirana            0       1     1        0   \n",
       "10555   1.2  Priyam Garg  Hardik Pandya            0       1     0        0   \n",
       "\n",
       "       byes  noballs wicket_type player_dismissed      fielder  \n",
       "8925      0        0      runout      Dhruv Jurel        Dhoni  \n",
       "10555     0        1      runout           Warner  Rashid Khan  "
      ]
     },
     "execution_count": 10,
     "metadata": {},
     "output_type": "execute_result"
    }
   ],
   "source": [
    "df.loc[[8925, 10555]]"
   ]
  },
  {
   "cell_type": "markdown",
   "id": "934d3491-fd73-4f2a-975b-55b5467a73fc",
   "metadata": {},
   "source": [
    "Now we have resolved the redundancy issue in the dismissal records but there are still missing values in the dataset that need to be addressed. We will now focus on handling these null values appropriately to ensure data completeness and reliability."
   ]
  },
  {
   "cell_type": "code",
   "execution_count": 11,
   "id": "53ba86a9-19b3-4a3b-bc51-b7fbab31e1fa",
   "metadata": {},
   "outputs": [
    {
     "data": {
      "text/plain": [
       "match_id                0\n",
       "season                  0\n",
       "match_no                0\n",
       "date                    0\n",
       "venue                   0\n",
       "batting_team            0\n",
       "bowling_team            0\n",
       "innings                 0\n",
       "over                    0\n",
       "striker                 0\n",
       "bowler                  0\n",
       "runs_of_bat             0\n",
       "extras                  0\n",
       "wide                    0\n",
       "legbyes                 0\n",
       "byes                    0\n",
       "noballs                 0\n",
       "wicket_type         16501\n",
       "player_dismissed    16501\n",
       "fielder             16708\n",
       "dtype: int64"
      ]
     },
     "execution_count": 11,
     "metadata": {},
     "output_type": "execute_result"
    }
   ],
   "source": [
    "df.isnull().sum()"
   ]
  },
  {
   "cell_type": "markdown",
   "id": "1b0a7f2d-7efd-48b3-abeb-0230d1f4089f",
   "metadata": {},
   "source": [
    "The below command fills the missing values in the dataset by assigning 'Not Out' to `wicket_type`, 'No One' to `player_dismissed`, and 'No One' to `fielder`. This ensures that all missing values in these columns are handled appropriately, maintaining consistency in the data."
   ]
  },
  {
   "cell_type": "code",
   "execution_count": 12,
   "id": "a5e0035c-abe5-408d-bfca-9f8d592c5b26",
   "metadata": {},
   "outputs": [],
   "source": [
    "df.fillna({\"wicket_type\": \"Not Out\", \"player_dismissed\": \"No One\",  \"fielder\": \"No One\"}, inplace=True)"
   ]
  },
  {
   "cell_type": "code",
   "execution_count": 13,
   "id": "c0c31e38-50a3-402f-b2ac-41cc645af50d",
   "metadata": {},
   "outputs": [
    {
     "data": {
      "text/plain": [
       "match_id            0\n",
       "season              0\n",
       "match_no            0\n",
       "date                0\n",
       "venue               0\n",
       "batting_team        0\n",
       "bowling_team        0\n",
       "innings             0\n",
       "over                0\n",
       "striker             0\n",
       "bowler              0\n",
       "runs_of_bat         0\n",
       "extras              0\n",
       "wide                0\n",
       "legbyes             0\n",
       "byes                0\n",
       "noballs             0\n",
       "wicket_type         0\n",
       "player_dismissed    0\n",
       "fielder             0\n",
       "dtype: int64"
      ]
     },
     "execution_count": 13,
     "metadata": {},
     "output_type": "execute_result"
    }
   ],
   "source": [
    "df.isnull().sum()"
   ]
  },
  {
   "cell_type": "markdown",
   "id": "6d209c1f-3a32-416f-ac99-d9d316ac61cd",
   "metadata": {},
   "source": [
    "Now that we have filled all missing values, our dataset is complete. The next step is to validate the logical consistency of the data, ensuring that all values align with real-world scenarios and there are no discrepancies in the dataset."
   ]
  },
  {
   "cell_type": "markdown",
   "id": "8d5939c4-4d66-4d82-81e6-f970ed8788ce",
   "metadata": {},
   "source": [
    "Pandas interprets \"None\" as NaN if the column’s data type is numerical or mixed-type. Therefore forcing it to string datatype."
   ]
  },
  {
   "cell_type": "code",
   "execution_count": 14,
   "id": "63097a2b-4b8b-4156-8181-307ab8e08945",
   "metadata": {},
   "outputs": [],
   "source": [
    "df[\"wicket_type\"] = df[\"wicket_type\"].astype(str)\n",
    "df[\"player_dismissed\"] = df[\"player_dismissed\"].astype(str)\n",
    "df[\"fielder\"] = df[\"fielder\"].astype(str)"
   ]
  },
  {
   "cell_type": "markdown",
   "id": "830b7283-83d6-423f-8d08-0b0f8d6aaffc",
   "metadata": {},
   "source": [
    "This will force pandas to recognize them as proper string values and not NaN"
   ]
  },
  {
   "cell_type": "code",
   "execution_count": 15,
   "id": "4c3abeae-0346-4fc0-93b8-9b7c3b440ffa",
   "metadata": {},
   "outputs": [
    {
     "name": "stdout",
     "output_type": "stream",
     "text": [
      "<class 'pandas.core.frame.DataFrame'>\n",
      "RangeIndex: 17386 entries, 0 to 17385\n",
      "Data columns (total 20 columns):\n",
      " #   Column            Non-Null Count  Dtype  \n",
      "---  ------            --------------  -----  \n",
      " 0   match_id          17386 non-null  int64  \n",
      " 1   season            17386 non-null  int64  \n",
      " 2   match_no          17386 non-null  int64  \n",
      " 3   date              17386 non-null  object \n",
      " 4   venue             17386 non-null  object \n",
      " 5   batting_team      17386 non-null  object \n",
      " 6   bowling_team      17386 non-null  object \n",
      " 7   innings           17386 non-null  int64  \n",
      " 8   over              17386 non-null  float64\n",
      " 9   striker           17386 non-null  object \n",
      " 10  bowler            17386 non-null  object \n",
      " 11  runs_of_bat       17386 non-null  int64  \n",
      " 12  extras            17386 non-null  int64  \n",
      " 13  wide              17386 non-null  int64  \n",
      " 14  legbyes           17386 non-null  int64  \n",
      " 15  byes              17386 non-null  int64  \n",
      " 16  noballs           17386 non-null  int64  \n",
      " 17  wicket_type       17386 non-null  object \n",
      " 18  player_dismissed  17386 non-null  object \n",
      " 19  fielder           17386 non-null  object \n",
      "dtypes: float64(1), int64(10), object(9)\n",
      "memory usage: 2.7+ MB\n"
     ]
    }
   ],
   "source": [
    "df.info()"
   ]
  },
  {
   "cell_type": "markdown",
   "id": "07f93cea-90cd-4e0e-bc97-b151cbc44071",
   "metadata": {},
   "source": [
    "## 5. Data Validation and Manipulation"
   ]
  },
  {
   "cell_type": "markdown",
   "id": "1dea1665-06be-40fe-9a48-b92196126d66",
   "metadata": {},
   "source": [
    "In this section, we will verify the correctness of each column's data by checking for inconsistencies, logical errors, and unexpected values. Any necessary transformations or corrections will also be applied to ensure data integrity"
   ]
  },
  {
   "cell_type": "markdown",
   "id": "96752039-d6bd-4c1f-83b2-1613aa1f1cbf",
   "metadata": {},
   "source": [
    "##### 5.1. match_id :"
   ]
  },
  {
   "cell_type": "code",
   "execution_count": 16,
   "id": "5be8f57f-7514-4777-854c-0db7fdec9c25",
   "metadata": {},
   "outputs": [
    {
     "data": {
      "text/plain": [
       "array([202301, 202302, 202303, 202304, 202305, 202306, 202307, 202308,\n",
       "       202309, 202310, 202311, 202312, 202313, 202314, 202315, 202316,\n",
       "       202317, 202318, 202319, 202320, 202321, 202322, 202323, 202324,\n",
       "       202325, 202326, 202327, 202328, 202329, 202330, 202331, 202332,\n",
       "       202333, 202334, 202335, 202336, 202337, 202338, 202339, 202340,\n",
       "       202341, 202342, 202343, 202344, 202345, 202346, 202347, 202348,\n",
       "       202349, 202350, 202351, 202352, 202353, 202354, 202355, 202356,\n",
       "       202357, 202358, 202359, 202360, 202361, 202362, 202363, 202365,\n",
       "       202366, 202367, 202368, 202369, 202370, 202371, 202373, 202374])"
      ]
     },
     "execution_count": 16,
     "metadata": {},
     "output_type": "execute_result"
    }
   ],
   "source": [
    "df[\"match_id\"].unique()"
   ]
  },
  {
   "cell_type": "markdown",
   "id": "ae425b2c-f9b2-4084-9d1a-fd7daf5f4938",
   "metadata": {},
   "source": [
    "This command returns an array of unique match IDs present in the dataset. The output helps in verifying the total number of matches recorded and checking for any duplicate or missing match IDs. We found 2 matches missing out of total 74 matches happened.( We are not going to fix it since whole match is missing which can't be populated with the available data)"
   ]
  },
  {
   "cell_type": "markdown",
   "id": "ab0591b9-b0c8-4a79-a598-6c6d5127d95a",
   "metadata": {},
   "source": [
    "##### 5.2. season :"
   ]
  },
  {
   "cell_type": "code",
   "execution_count": 17,
   "id": "2bc7b04a-1501-49e8-b9ee-79174798066d",
   "metadata": {},
   "outputs": [
    {
     "data": {
      "text/plain": [
       "array([2023])"
      ]
     },
     "execution_count": 17,
     "metadata": {},
     "output_type": "execute_result"
    }
   ],
   "source": [
    "df[\"season\"].unique()"
   ]
  },
  {
   "cell_type": "markdown",
   "id": "cbca1380-7243-4a6f-bc2c-0f30b1d7d5bb",
   "metadata": {},
   "source": [
    "One unique season - 2023"
   ]
  },
  {
   "cell_type": "markdown",
   "id": "e418bfe3-d9c7-41eb-a466-2d2f398a0eb3",
   "metadata": {},
   "source": [
    "##### 5.3. match_no :"
   ]
  },
  {
   "cell_type": "code",
   "execution_count": 18,
   "id": "6ce7193f-48c6-4600-a90b-5056624d22a2",
   "metadata": {},
   "outputs": [
    {
     "data": {
      "text/plain": [
       "array([ 1,  2,  3,  4,  5,  6,  7,  8,  9, 10, 11, 12, 13, 14, 15, 16, 17,\n",
       "       18, 19, 20, 21, 22, 23, 24, 25, 26, 27, 28, 29, 30, 31, 32, 33, 34,\n",
       "       35, 36, 37, 38, 39, 40, 41, 42, 43, 44, 45, 46, 47, 48, 49, 50, 51,\n",
       "       52, 53, 54, 55, 56, 57, 58, 59, 60, 61, 62, 63, 65, 66, 67, 68, 69,\n",
       "       70, 71, 73, 74])"
      ]
     },
     "execution_count": 18,
     "metadata": {},
     "output_type": "execute_result"
    }
   ],
   "source": [
    "df[\"match_no\"].unique()"
   ]
  },
  {
   "cell_type": "markdown",
   "id": "1cb77a3c-229f-47c7-9b66-3a5dc8996b70",
   "metadata": {},
   "source": [
    "As explained earlier, we observed that two matches are missing from the dataset. This means our analysis will be based on the available matches, which are slightly fewer than the expected total."
   ]
  },
  {
   "cell_type": "markdown",
   "id": "80dc760e-a1fa-4f2a-8e5f-dcd1e9486c96",
   "metadata": {},
   "source": [
    "##### 5.4. date :"
   ]
  },
  {
   "cell_type": "markdown",
   "id": "e1494841-a479-4dc5-99a1-f2896230dac5",
   "metadata": {},
   "source": [
    "As noted from the `info()` command, our `date` column is currently stored as an `object` (string) data type. To perform date-based operations efficiently, we need to convert it into the `datetime64` format. This will allow us to handle time-based analysis, sorting, and filtering more effectively."
   ]
  },
  {
   "cell_type": "code",
   "execution_count": 19,
   "id": "e009be22-263b-4f9d-b62e-b8eddf73e155",
   "metadata": {},
   "outputs": [],
   "source": [
    "df[\"date\"] = pd.to_datetime(df[\"date\"])"
   ]
  },
  {
   "cell_type": "markdown",
   "id": "caf75263-c43f-4542-b0e0-a861f825a701",
   "metadata": {},
   "source": [
    "Now, we have changed it into `datetime64` format. We can verify it by the following commands."
   ]
  },
  {
   "cell_type": "code",
   "execution_count": 20,
   "id": "60261a50-b4df-4df2-969a-638d974b9120",
   "metadata": {},
   "outputs": [
    {
     "data": {
      "text/plain": [
       "dtype('<M8[ns]')"
      ]
     },
     "execution_count": 20,
     "metadata": {},
     "output_type": "execute_result"
    }
   ],
   "source": [
    "df[\"date\"].dtype"
   ]
  },
  {
   "cell_type": "code",
   "execution_count": 21,
   "id": "b8471625-6ecb-46bb-9ab4-238e213729b7",
   "metadata": {},
   "outputs": [
    {
     "data": {
      "text/html": [
       "<div>\n",
       "<style scoped>\n",
       "    .dataframe tbody tr th:only-of-type {\n",
       "        vertical-align: middle;\n",
       "    }\n",
       "\n",
       "    .dataframe tbody tr th {\n",
       "        vertical-align: top;\n",
       "    }\n",
       "\n",
       "    .dataframe thead th {\n",
       "        text-align: right;\n",
       "    }\n",
       "</style>\n",
       "<table border=\"1\" class=\"dataframe\">\n",
       "  <thead>\n",
       "    <tr style=\"text-align: right;\">\n",
       "      <th></th>\n",
       "      <th>match_id</th>\n",
       "      <th>season</th>\n",
       "      <th>match_no</th>\n",
       "      <th>date</th>\n",
       "      <th>venue</th>\n",
       "      <th>batting_team</th>\n",
       "      <th>bowling_team</th>\n",
       "      <th>innings</th>\n",
       "      <th>over</th>\n",
       "      <th>striker</th>\n",
       "      <th>bowler</th>\n",
       "      <th>runs_of_bat</th>\n",
       "      <th>extras</th>\n",
       "      <th>wide</th>\n",
       "      <th>legbyes</th>\n",
       "      <th>byes</th>\n",
       "      <th>noballs</th>\n",
       "      <th>wicket_type</th>\n",
       "      <th>player_dismissed</th>\n",
       "      <th>fielder</th>\n",
       "    </tr>\n",
       "  </thead>\n",
       "  <tbody>\n",
       "    <tr>\n",
       "      <th>0</th>\n",
       "      <td>202301</td>\n",
       "      <td>2023</td>\n",
       "      <td>1</td>\n",
       "      <td>2023-03-31</td>\n",
       "      <td>Narendra Modi Stadium, Ahmedabad</td>\n",
       "      <td>CSK</td>\n",
       "      <td>GT</td>\n",
       "      <td>1</td>\n",
       "      <td>0.1</td>\n",
       "      <td>Conway</td>\n",
       "      <td>Shami</td>\n",
       "      <td>0</td>\n",
       "      <td>0</td>\n",
       "      <td>0</td>\n",
       "      <td>0</td>\n",
       "      <td>0</td>\n",
       "      <td>0</td>\n",
       "      <td>Not Out</td>\n",
       "      <td>No One</td>\n",
       "      <td>No One</td>\n",
       "    </tr>\n",
       "    <tr>\n",
       "      <th>1</th>\n",
       "      <td>202301</td>\n",
       "      <td>2023</td>\n",
       "      <td>1</td>\n",
       "      <td>2023-03-31</td>\n",
       "      <td>Narendra Modi Stadium, Ahmedabad</td>\n",
       "      <td>CSK</td>\n",
       "      <td>GT</td>\n",
       "      <td>1</td>\n",
       "      <td>0.2</td>\n",
       "      <td>Conway</td>\n",
       "      <td>Shami</td>\n",
       "      <td>0</td>\n",
       "      <td>1</td>\n",
       "      <td>0</td>\n",
       "      <td>1</td>\n",
       "      <td>0</td>\n",
       "      <td>0</td>\n",
       "      <td>Not Out</td>\n",
       "      <td>No One</td>\n",
       "      <td>No One</td>\n",
       "    </tr>\n",
       "    <tr>\n",
       "      <th>2</th>\n",
       "      <td>202301</td>\n",
       "      <td>2023</td>\n",
       "      <td>1</td>\n",
       "      <td>2023-03-31</td>\n",
       "      <td>Narendra Modi Stadium, Ahmedabad</td>\n",
       "      <td>CSK</td>\n",
       "      <td>GT</td>\n",
       "      <td>1</td>\n",
       "      <td>0.3</td>\n",
       "      <td>Gaikwad</td>\n",
       "      <td>Shami</td>\n",
       "      <td>0</td>\n",
       "      <td>0</td>\n",
       "      <td>0</td>\n",
       "      <td>0</td>\n",
       "      <td>0</td>\n",
       "      <td>0</td>\n",
       "      <td>Not Out</td>\n",
       "      <td>No One</td>\n",
       "      <td>No One</td>\n",
       "    </tr>\n",
       "    <tr>\n",
       "      <th>3</th>\n",
       "      <td>202301</td>\n",
       "      <td>2023</td>\n",
       "      <td>1</td>\n",
       "      <td>2023-03-31</td>\n",
       "      <td>Narendra Modi Stadium, Ahmedabad</td>\n",
       "      <td>CSK</td>\n",
       "      <td>GT</td>\n",
       "      <td>1</td>\n",
       "      <td>0.4</td>\n",
       "      <td>Gaikwad</td>\n",
       "      <td>Shami</td>\n",
       "      <td>1</td>\n",
       "      <td>0</td>\n",
       "      <td>0</td>\n",
       "      <td>0</td>\n",
       "      <td>0</td>\n",
       "      <td>0</td>\n",
       "      <td>Not Out</td>\n",
       "      <td>No One</td>\n",
       "      <td>No One</td>\n",
       "    </tr>\n",
       "    <tr>\n",
       "      <th>4</th>\n",
       "      <td>202301</td>\n",
       "      <td>2023</td>\n",
       "      <td>1</td>\n",
       "      <td>2023-03-31</td>\n",
       "      <td>Narendra Modi Stadium, Ahmedabad</td>\n",
       "      <td>CSK</td>\n",
       "      <td>GT</td>\n",
       "      <td>1</td>\n",
       "      <td>0.5</td>\n",
       "      <td>Conway</td>\n",
       "      <td>Shami</td>\n",
       "      <td>0</td>\n",
       "      <td>0</td>\n",
       "      <td>0</td>\n",
       "      <td>0</td>\n",
       "      <td>0</td>\n",
       "      <td>0</td>\n",
       "      <td>Not Out</td>\n",
       "      <td>No One</td>\n",
       "      <td>No One</td>\n",
       "    </tr>\n",
       "  </tbody>\n",
       "</table>\n",
       "</div>"
      ],
      "text/plain": [
       "   match_id  season  match_no       date                             venue  \\\n",
       "0    202301    2023         1 2023-03-31  Narendra Modi Stadium, Ahmedabad   \n",
       "1    202301    2023         1 2023-03-31  Narendra Modi Stadium, Ahmedabad   \n",
       "2    202301    2023         1 2023-03-31  Narendra Modi Stadium, Ahmedabad   \n",
       "3    202301    2023         1 2023-03-31  Narendra Modi Stadium, Ahmedabad   \n",
       "4    202301    2023         1 2023-03-31  Narendra Modi Stadium, Ahmedabad   \n",
       "\n",
       "  batting_team bowling_team  innings  over  striker bowler  runs_of_bat  \\\n",
       "0          CSK           GT        1   0.1   Conway  Shami            0   \n",
       "1          CSK           GT        1   0.2   Conway  Shami            0   \n",
       "2          CSK           GT        1   0.3  Gaikwad  Shami            0   \n",
       "3          CSK           GT        1   0.4  Gaikwad  Shami            1   \n",
       "4          CSK           GT        1   0.5   Conway  Shami            0   \n",
       "\n",
       "   extras  wide  legbyes  byes  noballs wicket_type player_dismissed fielder  \n",
       "0       0     0        0     0        0     Not Out           No One  No One  \n",
       "1       1     0        1     0        0     Not Out           No One  No One  \n",
       "2       0     0        0     0        0     Not Out           No One  No One  \n",
       "3       0     0        0     0        0     Not Out           No One  No One  \n",
       "4       0     0        0     0        0     Not Out           No One  No One  "
      ]
     },
     "execution_count": 21,
     "metadata": {},
     "output_type": "execute_result"
    }
   ],
   "source": [
    "df.head()"
   ]
  },
  {
   "cell_type": "markdown",
   "id": "60474559-42ea-47af-9e31-147c1ab8e6f8",
   "metadata": {},
   "source": [
    "##### 5.5. venue :"
   ]
  },
  {
   "cell_type": "code",
   "execution_count": 22,
   "id": "bb29808f-0361-4000-a7ac-845ebfa10f8b",
   "metadata": {},
   "outputs": [
    {
     "data": {
      "text/plain": [
       "array(['Narendra Modi Stadium, Ahmedabad',\n",
       "       'Punjab Cricket Association IS Bindra Stadium, Mohali',\n",
       "       'Bharat Ratna Shri Atal Bihari Vajpayee Ekana Cricket Stadium, Lucknow',\n",
       "       'Rajiv Gandhi International Stadium, Hyderabad',\n",
       "       'M.Chinnaswamy Stadium, Bengaluru',\n",
       "       'MA Chidambaram Stadium, Chennai', 'Arun Jaitley Stadium, Delhi',\n",
       "       'Barsapara Cricket Stadium, Guwahati', 'Eden Gardens, Kolkata',\n",
       "       'Wankhede Stadium, Mumbai', 'Sawai Mansingh Stadium, Jaipur',\n",
       "       'Himachal Pradesh Cricket Association Stadium, Dharamsala'],\n",
       "      dtype=object)"
      ]
     },
     "execution_count": 22,
     "metadata": {},
     "output_type": "execute_result"
    }
   ],
   "source": [
    "df[\"venue\"].unique()"
   ]
  },
  {
   "cell_type": "markdown",
   "id": "692dacfd-c8c8-45ba-92b5-0a2a49e0a744",
   "metadata": {},
   "source": [
    "IPL 2023: In total 12 venues - Mohali, Lucknow, Hyderabad, Bengaluru, Chennai, Delhi, Kolkata, Jaipur, Mumbai, Guwahati (Royals' second home) and Dharamsala (Kings' second home) will host the IPL 2023 matches."
   ]
  },
  {
   "cell_type": "markdown",
   "id": "3eddd45b-f3d6-4051-be82-0ca3b0a80ae7",
   "metadata": {},
   "source": [
    "##### 5.6. batting_team and bowling_team :"
   ]
  },
  {
   "cell_type": "code",
   "execution_count": 23,
   "id": "4c6bd277-c73d-4b7a-98fe-a6401133802d",
   "metadata": {},
   "outputs": [
    {
     "data": {
      "text/plain": [
       "array(['CSK', 'GT', 'PBKS', 'KKR', 'LSG', 'DC', 'RR', 'SRH', 'MI', 'RCB'],\n",
       "      dtype=object)"
      ]
     },
     "execution_count": 23,
     "metadata": {},
     "output_type": "execute_result"
    }
   ],
   "source": [
    "df[\"batting_team\"].unique()"
   ]
  },
  {
   "cell_type": "code",
   "execution_count": 24,
   "id": "6bea9068-578c-4d04-b811-ddb8da9788a0",
   "metadata": {},
   "outputs": [
    {
     "data": {
      "text/plain": [
       "array(['GT', 'CSK', 'KKR', 'PBKS', 'DC', 'LSG', 'SRH', 'RR', 'RCB', 'MI'],\n",
       "      dtype=object)"
      ]
     },
     "execution_count": 24,
     "metadata": {},
     "output_type": "execute_result"
    }
   ],
   "source": [
    "df[\"bowling_team\"].unique()"
   ]
  },
  {
   "cell_type": "markdown",
   "id": "a0ed32ad-f92d-4191-9dcd-be1613f6a0c3",
   "metadata": {},
   "source": [
    "We have 10 unique teams participating in the IPL 2023 season. Additionally, we are verifying that no team is playing against itself in any match, ensuring that the dataset correctly represents valid matchups between different teams."
   ]
  },
  {
   "cell_type": "code",
   "execution_count": 25,
   "id": "f396357d-e614-4b10-a737-bda854e037c3",
   "metadata": {},
   "outputs": [
    {
     "data": {
      "text/plain": [
       "0"
      ]
     },
     "execution_count": 25,
     "metadata": {},
     "output_type": "execute_result"
    }
   ],
   "source": [
    "len(df[df['batting_team'] == df['bowling_team']])"
   ]
  },
  {
   "cell_type": "markdown",
   "id": "92cc2fab-b3dc-47ac-b573-74694118d2f0",
   "metadata": {},
   "source": [
    "##### 5.6. innings :"
   ]
  },
  {
   "cell_type": "code",
   "execution_count": 26,
   "id": "a928f646-900f-497c-ae47-480d1ce0e834",
   "metadata": {},
   "outputs": [
    {
     "data": {
      "text/plain": [
       "array([1, 2])"
      ]
     },
     "execution_count": 26,
     "metadata": {},
     "output_type": "execute_result"
    }
   ],
   "source": [
    "df[\"innings\"].unique()"
   ]
  },
  {
   "cell_type": "markdown",
   "id": "f4ab747a-23b2-42d4-aa30-56e6272319fd",
   "metadata": {},
   "source": [
    "##### 5.7. over :"
   ]
  },
  {
   "cell_type": "code",
   "execution_count": 27,
   "id": "d8ae6e33-c232-4d52-84c9-bc7294aa58a7",
   "metadata": {},
   "outputs": [
    {
     "data": {
      "text/plain": [
       "array([ 0.1,  0.2,  0.3,  0.4,  0.5,  0.6,  1.1,  1.2,  1.3,  1.4,  1.5,\n",
       "        1.6,  2.1,  2.2,  2.3,  2.4,  2.5,  2.6,  3.1,  3.2,  3.3,  3.4,\n",
       "        3.5,  3.6,  4.1,  4.2,  4.3,  4.4,  4.5,  4.6,  5.1,  5.2,  5.3,\n",
       "        5.4,  5.5,  5.6,  6.1,  6.2,  6.3,  6.4,  6.5,  6.6,  7.1,  7.2,\n",
       "        7.3,  7.4,  7.5,  7.6,  8.1,  8.2,  8.3,  8.4,  8.5,  8.6,  9.1,\n",
       "        9.2,  9.3,  9.4,  9.5,  9.6, 10.1, 10.2, 10.3, 10.4, 10.5, 10.6,\n",
       "       11.1, 11.2, 11.3, 11.4, 11.5, 11.6, 12.1, 12.2, 12.3, 12.4, 12.5,\n",
       "       12.6, 13.1, 13.2, 13.3, 13.4, 13.5, 13.6, 14.1, 14.2, 14.3, 14.4,\n",
       "       14.5, 14.6, 15.1, 15.2, 15.3, 15.4, 15.5, 15.6, 16.1, 16.2, 16.3,\n",
       "       16.4, 16.5, 16.6, 17.1, 17.2, 17.3, 17.4, 17.5, 17.6, 18.1, 18.2,\n",
       "       18.3, 18.4, 18.5, 18.6, 19.1, 19.2, 19.3, 19.4, 19.5, 19.6])"
      ]
     },
     "execution_count": 27,
     "metadata": {},
     "output_type": "execute_result"
    }
   ],
   "source": [
    "df[\"over\"].unique()"
   ]
  },
  {
   "cell_type": "markdown",
   "id": "2425a282-033e-4afa-a64f-791b624ad9ae",
   "metadata": {},
   "source": [
    "No. of Balls per innings"
   ]
  },
  {
   "cell_type": "code",
   "execution_count": 28,
   "id": "11eb8f5c-1960-44cf-a537-be5ae03552cb",
   "metadata": {},
   "outputs": [
    {
     "data": {
      "text/plain": [
       "120"
      ]
     },
     "execution_count": 28,
     "metadata": {},
     "output_type": "execute_result"
    }
   ],
   "source": [
    "df[\"over\"].nunique()"
   ]
  },
  {
   "cell_type": "markdown",
   "id": "1a651a11-fcdb-4444-bb6e-3596ff417836",
   "metadata": {},
   "source": [
    "##### 5.8. striker and bowler :"
   ]
  },
  {
   "cell_type": "markdown",
   "id": "c13ae3e0-0709-42c0-a99a-dc4348bac2cc",
   "metadata": {},
   "source": [
    "We are verifying that the striker and bowler are never the same player in any given delivery. This ensures the dataset correctly represents a valid game scenario where a batsman faces a bowler, and self-bowling does not occur."
   ]
  },
  {
   "cell_type": "code",
   "execution_count": 29,
   "id": "a776d8a6-cbd9-47e2-9910-273d35ee7218",
   "metadata": {},
   "outputs": [
    {
     "data": {
      "text/plain": [
       "0"
      ]
     },
     "execution_count": 29,
     "metadata": {},
     "output_type": "execute_result"
    }
   ],
   "source": [
    "len(df[df['striker'] == df['bowler']])"
   ]
  },
  {
   "cell_type": "markdown",
   "id": "ab10266f-8a39-4b24-9818-66f5c5d9da75",
   "metadata": {},
   "source": [
    "##### 5.9. runs_of_bat, extras and others:"
   ]
  },
  {
   "cell_type": "markdown",
   "id": "76b0018e-e4cb-4530-8724-a804c9fc95df",
   "metadata": {},
   "source": [
    "This command retrieves all unique values in the `runs_of_bat` column, showing the different possible runs scored on a legal delivery. The expected values are 0, 1, 2, 3, 4, and 6, but we need to check if any unexpected values (like 5) appear."
   ]
  },
  {
   "cell_type": "code",
   "execution_count": 30,
   "id": "6bbceb23-3bb7-4bc3-a1ae-ce97cd3629e1",
   "metadata": {},
   "outputs": [
    {
     "data": {
      "text/plain": [
       "array([0, 1, 4, 6, 2, 3, 5])"
      ]
     },
     "execution_count": 30,
     "metadata": {},
     "output_type": "execute_result"
    }
   ],
   "source": [
    "df[\"runs_of_bat\"].unique()"
   ]
  },
  {
   "cell_type": "code",
   "execution_count": 31,
   "id": "d357d014-df54-4b23-98b2-4447e7c4345d",
   "metadata": {},
   "outputs": [
    {
     "data": {
      "text/plain": [
       "1"
      ]
     },
     "execution_count": 31,
     "metadata": {},
     "output_type": "execute_result"
    }
   ],
   "source": [
    "len(df[df[\"runs_of_bat\"] == 5])"
   ]
  },
  {
   "cell_type": "markdown",
   "id": "06f97135-f0f3-4030-b819-55dba8fc7d7e",
   "metadata": {},
   "source": [
    "The presence of **5 runs** in the `runs_of_bat` column indicates a rare event that occurred once in IPL 2023. This could have been due to an overthrow or an unusual fielding error. While uncommon, it is a valid outcome and does not require data correction."
   ]
  },
  {
   "cell_type": "code",
   "execution_count": 32,
   "id": "05159819-38f5-4d98-9f64-f218875ba311",
   "metadata": {},
   "outputs": [
    {
     "data": {
      "text/plain": [
       "array([0, 1, 4, 5, 2, 3])"
      ]
     },
     "execution_count": 32,
     "metadata": {},
     "output_type": "execute_result"
    }
   ],
   "source": [
    "df[\"extras\"].unique()"
   ]
  },
  {
   "cell_type": "code",
   "execution_count": 33,
   "id": "7985954a-c74e-41b4-8e1d-f5df2c321228",
   "metadata": {},
   "outputs": [
    {
     "data": {
      "text/plain": [
       "array([0, 1])"
      ]
     },
     "execution_count": 33,
     "metadata": {},
     "output_type": "execute_result"
    }
   ],
   "source": [
    "df[\"wide\"].unique()"
   ]
  },
  {
   "cell_type": "code",
   "execution_count": 34,
   "id": "e16f3bea-ca86-4811-8de1-11f279e147a5",
   "metadata": {},
   "outputs": [
    {
     "data": {
      "text/plain": [
       "array([0, 1])"
      ]
     },
     "execution_count": 34,
     "metadata": {},
     "output_type": "execute_result"
    }
   ],
   "source": [
    "df[\"legbyes\"].unique()"
   ]
  },
  {
   "cell_type": "code",
   "execution_count": 35,
   "id": "78bb82cf-c49c-4f0f-b90f-360e004c612b",
   "metadata": {},
   "outputs": [
    {
     "data": {
      "text/plain": [
       "array([0, 1])"
      ]
     },
     "execution_count": 35,
     "metadata": {},
     "output_type": "execute_result"
    }
   ],
   "source": [
    "df[\"byes\"].unique()"
   ]
  },
  {
   "cell_type": "code",
   "execution_count": 36,
   "id": "a9f81ef0-853b-447e-9d85-d39bf810d2d6",
   "metadata": {},
   "outputs": [
    {
     "data": {
      "text/plain": [
       "array([0, 1])"
      ]
     },
     "execution_count": 36,
     "metadata": {},
     "output_type": "execute_result"
    }
   ],
   "source": [
    "df[\"noballs\"].unique()"
   ]
  },
  {
   "cell_type": "markdown",
   "id": "894d1cfc-29d5-4952-8c4d-999c5826f4a1",
   "metadata": {},
   "source": [
    "This query checks for instances where runs have been scored off the bat (`runs_of_bat` > 0) while also having extras like wide, leg byes, or byes in the same delivery."
   ]
  },
  {
   "cell_type": "code",
   "execution_count": 37,
   "id": "ee47da24-6cb5-448c-9691-878f98061579",
   "metadata": {},
   "outputs": [
    {
     "data": {
      "text/html": [
       "<div>\n",
       "<style scoped>\n",
       "    .dataframe tbody tr th:only-of-type {\n",
       "        vertical-align: middle;\n",
       "    }\n",
       "\n",
       "    .dataframe tbody tr th {\n",
       "        vertical-align: top;\n",
       "    }\n",
       "\n",
       "    .dataframe thead th {\n",
       "        text-align: right;\n",
       "    }\n",
       "</style>\n",
       "<table border=\"1\" class=\"dataframe\">\n",
       "  <thead>\n",
       "    <tr style=\"text-align: right;\">\n",
       "      <th></th>\n",
       "      <th>match_id</th>\n",
       "      <th>season</th>\n",
       "      <th>match_no</th>\n",
       "      <th>date</th>\n",
       "      <th>venue</th>\n",
       "      <th>batting_team</th>\n",
       "      <th>bowling_team</th>\n",
       "      <th>innings</th>\n",
       "      <th>over</th>\n",
       "      <th>striker</th>\n",
       "      <th>bowler</th>\n",
       "      <th>runs_of_bat</th>\n",
       "      <th>extras</th>\n",
       "      <th>wide</th>\n",
       "      <th>legbyes</th>\n",
       "      <th>byes</th>\n",
       "      <th>noballs</th>\n",
       "      <th>wicket_type</th>\n",
       "      <th>player_dismissed</th>\n",
       "      <th>fielder</th>\n",
       "    </tr>\n",
       "  </thead>\n",
       "  <tbody>\n",
       "  </tbody>\n",
       "</table>\n",
       "</div>"
      ],
      "text/plain": [
       "Empty DataFrame\n",
       "Columns: [match_id, season, match_no, date, venue, batting_team, bowling_team, innings, over, striker, bowler, runs_of_bat, extras, wide, legbyes, byes, noballs, wicket_type, player_dismissed, fielder]\n",
       "Index: []"
      ]
     },
     "execution_count": 37,
     "metadata": {},
     "output_type": "execute_result"
    }
   ],
   "source": [
    "df[((df[\"wide\"] > 0) | (df[\"legbyes\"] > 0) | (df[\"byes\"] > 0)) & (df[\"runs_of_bat\"] > 0) ]"
   ]
  },
  {
   "cell_type": "markdown",
   "id": "fd867c86-df07-4a59-8b04-4051eb7d761e",
   "metadata": {},
   "source": [
    "In cricket rules, if a ball is declared wide, leg bye, or bye, the batsman does not get runs from the bat (`runs_of_bat`). So ideally, there shouldn't be any rows that satisfy both conditions"
   ]
  },
  {
   "cell_type": "markdown",
   "id": "ef393877-c235-4621-b586-7dd68742506c",
   "metadata": {},
   "source": [
    "##### 5.10. wicket_type, player_dismissed and fielder :"
   ]
  },
  {
   "cell_type": "code",
   "execution_count": 38,
   "id": "31248e8a-b6d4-4b7c-b56c-76b412ddf7fa",
   "metadata": {},
   "outputs": [
    {
     "data": {
      "text/plain": [
       "array(['Not Out', 'bowled', 'caught', 'lbw', 'stumped', 'runout',\n",
       "       'hit wicket'], dtype=object)"
      ]
     },
     "execution_count": 38,
     "metadata": {},
     "output_type": "execute_result"
    }
   ],
   "source": [
    "df[\"wicket_type\"].unique()"
   ]
  },
  {
   "cell_type": "markdown",
   "id": "d3997ee4-6fd5-41af-91db-f09d7a8a1ee1",
   "metadata": {},
   "source": [
    "This query filters out cases where a wicket was taken but no fielder is recorded, even though the dismissal type requires one.\n",
    "For bowled, lbw, and hit wicket, a fielder is not needed, so they are excluded in the condition."
   ]
  },
  {
   "cell_type": "code",
   "execution_count": 39,
   "id": "9ab16e7b-70ca-4d90-952d-23f17742e6ec",
   "metadata": {},
   "outputs": [
    {
     "data": {
      "text/html": [
       "<div>\n",
       "<style scoped>\n",
       "    .dataframe tbody tr th:only-of-type {\n",
       "        vertical-align: middle;\n",
       "    }\n",
       "\n",
       "    .dataframe tbody tr th {\n",
       "        vertical-align: top;\n",
       "    }\n",
       "\n",
       "    .dataframe thead th {\n",
       "        text-align: right;\n",
       "    }\n",
       "</style>\n",
       "<table border=\"1\" class=\"dataframe\">\n",
       "  <thead>\n",
       "    <tr style=\"text-align: right;\">\n",
       "      <th></th>\n",
       "      <th>match_id</th>\n",
       "      <th>season</th>\n",
       "      <th>match_no</th>\n",
       "      <th>date</th>\n",
       "      <th>venue</th>\n",
       "      <th>batting_team</th>\n",
       "      <th>bowling_team</th>\n",
       "      <th>innings</th>\n",
       "      <th>over</th>\n",
       "      <th>striker</th>\n",
       "      <th>bowler</th>\n",
       "      <th>runs_of_bat</th>\n",
       "      <th>extras</th>\n",
       "      <th>wide</th>\n",
       "      <th>legbyes</th>\n",
       "      <th>byes</th>\n",
       "      <th>noballs</th>\n",
       "      <th>wicket_type</th>\n",
       "      <th>player_dismissed</th>\n",
       "      <th>fielder</th>\n",
       "    </tr>\n",
       "  </thead>\n",
       "  <tbody>\n",
       "  </tbody>\n",
       "</table>\n",
       "</div>"
      ],
      "text/plain": [
       "Empty DataFrame\n",
       "Columns: [match_id, season, match_no, date, venue, batting_team, bowling_team, innings, over, striker, bowler, runs_of_bat, extras, wide, legbyes, byes, noballs, wicket_type, player_dismissed, fielder]\n",
       "Index: []"
      ]
     },
     "execution_count": 39,
     "metadata": {},
     "output_type": "execute_result"
    }
   ],
   "source": [
    "df[(df[\"fielder\"] == \"No One\") & ~df[\"wicket_type\"].isin([\"bowled\", \"lbw\", \"hit wicket\", \"Not Out\"])]"
   ]
  },
  {
   "cell_type": "markdown",
   "id": "be6a17fd-d7e0-46e0-a285-a815c13b3aca",
   "metadata": {},
   "source": [
    "Since no rows appeared, it confirms that every dismissal requiring a fielder has one recorded properly. This indicates that our data is logically consistent in this aspect"
   ]
  },
  {
   "cell_type": "markdown",
   "id": "deb495dc-8e67-4733-bf86-13c4012e1810",
   "metadata": {},
   "source": [
    "## 6. Saving the Cleaned Dataset"
   ]
  },
  {
   "cell_type": "markdown",
   "id": "29fc34e6-9e8a-41c9-8fc2-be29e65424ac",
   "metadata": {},
   "source": [
    "Now that we have cleaned and validated our IPL 2023 dataset, we save it as a CSV file. This ensures that our refined data is readily available for further analysis and visualization without needing to repeat the preprocessing steps."
   ]
  },
  {
   "cell_type": "code",
   "execution_count": 40,
   "id": "e94cca7f-003f-4447-ad15-84a86a4534fe",
   "metadata": {},
   "outputs": [],
   "source": [
    "df.to_csv(\"cleansed_ipl_2023_deliveries.csv\", index = False )"
   ]
  },
  {
   "cell_type": "markdown",
   "id": "7b2547bc-f0ec-4ae1-814d-e6327990ddd3",
   "metadata": {},
   "source": [
    "## 7. Conclusion"
   ]
  },
  {
   "cell_type": "markdown",
   "id": "7e473134-9a6f-4c3e-a500-d29b5430c92e",
   "metadata": {},
   "source": [
    "In this analysis, we systematically cleaned and validated the IPL 2023 dataset by handling missing values, fixing redundancies, and verifying logical consistency. We ensured that each column's data adhered to expected patterns, correcting any inconsistencies where necessary. While two matches were missing from the dataset, we proceeded with the best available data to maintain accuracy. Now, we save the cleaned dataset as a CSV file, making it ready for further analysis, including team performance evaluation, player statistics, and match trend insights."
   ]
  }
 ],
 "metadata": {
  "kernelspec": {
   "display_name": "Python 3 (ipykernel)",
   "language": "python",
   "name": "python3"
  },
  "language_info": {
   "codemirror_mode": {
    "name": "ipython",
    "version": 3
   },
   "file_extension": ".py",
   "mimetype": "text/x-python",
   "name": "python",
   "nbconvert_exporter": "python",
   "pygments_lexer": "ipython3",
   "version": "3.12.5"
  }
 },
 "nbformat": 4,
 "nbformat_minor": 5
}
